{
 "cells": [
  {
   "cell_type": "markdown",
   "id": "d4f165df-16d8-4fa8-8830-9ea6c6f4798c",
   "metadata": {},
   "source": [
    "# Proyek Analisis Data: Bike-sharing-dataset\n",
    "- **Nama  : Nurul Itsnaini**\n",
    "- **Email : nurul.itsnaini1711@gmail.com**\n",
    "- **ID Dicoding : MC229D5X0883**"
   ]
  },
  {
   "cell_type": "markdown",
   "id": "69580887-25bf-4f56-9053-778ef83c1336",
   "metadata": {},
   "source": [
    "## Menentukan Pertanyaan Bisnis\n",
    "- Pertanyaan 1: Bagaimana performa penyewaan sepeda dalam dua tahun terakhir ini?\n",
    "- Pertanyaan 2: Pada musim apa yang memiliki tingkat penyewaan sepeda paling tinggi dan paling rendah?\n",
    "- Pertanyaan 3: Bagaimana perbandingan jumlah penyewaan sepeda pada hari libur dan hari kerja?\n",
    "- Pertanyaan 4: Bagaimana perbandingan jumlah pengguna sepeda biasa dan pengguna terdaftar?\n",
    "- Pertanyaan 5: Bagaimana tren jumlah penyewaan sepeda berdasarkan jam?"
   ]
  },
  {
   "cell_type": "markdown",
   "id": "52c85af6-1df1-4c9b-954b-d49e61204a3f",
   "metadata": {},
   "source": [
    "## Import semua packages/library yang digunakan"
   ]
  },
  {
   "cell_type": "code",
   "execution_count": 3,
   "id": "650abbc5-a0ba-4a4f-be31-ede7da3bbc2a",
   "metadata": {},
   "outputs": [],
   "source": [
    "import numpy as np\n",
    "import pandas as pd\n",
    "import matplotlib.pyplot as plt\n",
    "import seaborn as sns"
   ]
  },
  {
   "cell_type": "markdown",
   "id": "d1ca7dce-868b-4dd0-a642-71e037176f94",
   "metadata": {},
   "source": [
    "## Data Wrangling\n",
    "### Gathering Data"
   ]
  },
  {
   "cell_type": "markdown",
   "id": "2d868f63-b9ad-45ed-87a2-64d3bb9c4cee",
   "metadata": {},
   "source": [
    "- **Memuat Data day**"
   ]
  },
  {
   "cell_type": "code",
   "execution_count": 4,
   "id": "2466aa83-0eec-4ecd-98b1-506577db4fd5",
   "metadata": {},
   "outputs": [
    {
     "ename": "FileNotFoundError",
     "evalue": "[Errno 2] No such file or directory: 'day.csv'",
     "output_type": "error",
     "traceback": [
      "\u001b[1;31m---------------------------------------------------------------------------\u001b[0m",
      "\u001b[1;31mFileNotFoundError\u001b[0m                         Traceback (most recent call last)",
      "Cell \u001b[1;32mIn[4], line 1\u001b[0m\n\u001b[1;32m----> 1\u001b[0m day_df \u001b[38;5;241m=\u001b[39m \u001b[43mpd\u001b[49m\u001b[38;5;241;43m.\u001b[39;49m\u001b[43mread_csv\u001b[49m\u001b[43m \u001b[49m\u001b[43m(\u001b[49m\u001b[38;5;124;43m\"\u001b[39;49m\u001b[38;5;124;43mday.csv\u001b[39;49m\u001b[38;5;124;43m\"\u001b[39;49m\u001b[43m)\u001b[49m\n\u001b[0;32m      2\u001b[0m day_df\u001b[38;5;241m.\u001b[39mhead()\n",
      "File \u001b[1;32m~\\AppData\\Local\\Programs\\Python\\Python313\\Lib\\site-packages\\pandas\\io\\parsers\\readers.py:1026\u001b[0m, in \u001b[0;36mread_csv\u001b[1;34m(filepath_or_buffer, sep, delimiter, header, names, index_col, usecols, dtype, engine, converters, true_values, false_values, skipinitialspace, skiprows, skipfooter, nrows, na_values, keep_default_na, na_filter, verbose, skip_blank_lines, parse_dates, infer_datetime_format, keep_date_col, date_parser, date_format, dayfirst, cache_dates, iterator, chunksize, compression, thousands, decimal, lineterminator, quotechar, quoting, doublequote, escapechar, comment, encoding, encoding_errors, dialect, on_bad_lines, delim_whitespace, low_memory, memory_map, float_precision, storage_options, dtype_backend)\u001b[0m\n\u001b[0;32m   1013\u001b[0m kwds_defaults \u001b[38;5;241m=\u001b[39m _refine_defaults_read(\n\u001b[0;32m   1014\u001b[0m     dialect,\n\u001b[0;32m   1015\u001b[0m     delimiter,\n\u001b[1;32m   (...)\u001b[0m\n\u001b[0;32m   1022\u001b[0m     dtype_backend\u001b[38;5;241m=\u001b[39mdtype_backend,\n\u001b[0;32m   1023\u001b[0m )\n\u001b[0;32m   1024\u001b[0m kwds\u001b[38;5;241m.\u001b[39mupdate(kwds_defaults)\n\u001b[1;32m-> 1026\u001b[0m \u001b[38;5;28;01mreturn\u001b[39;00m \u001b[43m_read\u001b[49m\u001b[43m(\u001b[49m\u001b[43mfilepath_or_buffer\u001b[49m\u001b[43m,\u001b[49m\u001b[43m \u001b[49m\u001b[43mkwds\u001b[49m\u001b[43m)\u001b[49m\n",
      "File \u001b[1;32m~\\AppData\\Local\\Programs\\Python\\Python313\\Lib\\site-packages\\pandas\\io\\parsers\\readers.py:620\u001b[0m, in \u001b[0;36m_read\u001b[1;34m(filepath_or_buffer, kwds)\u001b[0m\n\u001b[0;32m    617\u001b[0m _validate_names(kwds\u001b[38;5;241m.\u001b[39mget(\u001b[38;5;124m\"\u001b[39m\u001b[38;5;124mnames\u001b[39m\u001b[38;5;124m\"\u001b[39m, \u001b[38;5;28;01mNone\u001b[39;00m))\n\u001b[0;32m    619\u001b[0m \u001b[38;5;66;03m# Create the parser.\u001b[39;00m\n\u001b[1;32m--> 620\u001b[0m parser \u001b[38;5;241m=\u001b[39m \u001b[43mTextFileReader\u001b[49m\u001b[43m(\u001b[49m\u001b[43mfilepath_or_buffer\u001b[49m\u001b[43m,\u001b[49m\u001b[43m \u001b[49m\u001b[38;5;241;43m*\u001b[39;49m\u001b[38;5;241;43m*\u001b[39;49m\u001b[43mkwds\u001b[49m\u001b[43m)\u001b[49m\n\u001b[0;32m    622\u001b[0m \u001b[38;5;28;01mif\u001b[39;00m chunksize \u001b[38;5;129;01mor\u001b[39;00m iterator:\n\u001b[0;32m    623\u001b[0m     \u001b[38;5;28;01mreturn\u001b[39;00m parser\n",
      "File \u001b[1;32m~\\AppData\\Local\\Programs\\Python\\Python313\\Lib\\site-packages\\pandas\\io\\parsers\\readers.py:1620\u001b[0m, in \u001b[0;36mTextFileReader.__init__\u001b[1;34m(self, f, engine, **kwds)\u001b[0m\n\u001b[0;32m   1617\u001b[0m     \u001b[38;5;28mself\u001b[39m\u001b[38;5;241m.\u001b[39moptions[\u001b[38;5;124m\"\u001b[39m\u001b[38;5;124mhas_index_names\u001b[39m\u001b[38;5;124m\"\u001b[39m] \u001b[38;5;241m=\u001b[39m kwds[\u001b[38;5;124m\"\u001b[39m\u001b[38;5;124mhas_index_names\u001b[39m\u001b[38;5;124m\"\u001b[39m]\n\u001b[0;32m   1619\u001b[0m \u001b[38;5;28mself\u001b[39m\u001b[38;5;241m.\u001b[39mhandles: IOHandles \u001b[38;5;241m|\u001b[39m \u001b[38;5;28;01mNone\u001b[39;00m \u001b[38;5;241m=\u001b[39m \u001b[38;5;28;01mNone\u001b[39;00m\n\u001b[1;32m-> 1620\u001b[0m \u001b[38;5;28mself\u001b[39m\u001b[38;5;241m.\u001b[39m_engine \u001b[38;5;241m=\u001b[39m \u001b[38;5;28;43mself\u001b[39;49m\u001b[38;5;241;43m.\u001b[39;49m\u001b[43m_make_engine\u001b[49m\u001b[43m(\u001b[49m\u001b[43mf\u001b[49m\u001b[43m,\u001b[49m\u001b[43m \u001b[49m\u001b[38;5;28;43mself\u001b[39;49m\u001b[38;5;241;43m.\u001b[39;49m\u001b[43mengine\u001b[49m\u001b[43m)\u001b[49m\n",
      "File \u001b[1;32m~\\AppData\\Local\\Programs\\Python\\Python313\\Lib\\site-packages\\pandas\\io\\parsers\\readers.py:1880\u001b[0m, in \u001b[0;36mTextFileReader._make_engine\u001b[1;34m(self, f, engine)\u001b[0m\n\u001b[0;32m   1878\u001b[0m     \u001b[38;5;28;01mif\u001b[39;00m \u001b[38;5;124m\"\u001b[39m\u001b[38;5;124mb\u001b[39m\u001b[38;5;124m\"\u001b[39m \u001b[38;5;129;01mnot\u001b[39;00m \u001b[38;5;129;01min\u001b[39;00m mode:\n\u001b[0;32m   1879\u001b[0m         mode \u001b[38;5;241m+\u001b[39m\u001b[38;5;241m=\u001b[39m \u001b[38;5;124m\"\u001b[39m\u001b[38;5;124mb\u001b[39m\u001b[38;5;124m\"\u001b[39m\n\u001b[1;32m-> 1880\u001b[0m \u001b[38;5;28mself\u001b[39m\u001b[38;5;241m.\u001b[39mhandles \u001b[38;5;241m=\u001b[39m \u001b[43mget_handle\u001b[49m\u001b[43m(\u001b[49m\n\u001b[0;32m   1881\u001b[0m \u001b[43m    \u001b[49m\u001b[43mf\u001b[49m\u001b[43m,\u001b[49m\n\u001b[0;32m   1882\u001b[0m \u001b[43m    \u001b[49m\u001b[43mmode\u001b[49m\u001b[43m,\u001b[49m\n\u001b[0;32m   1883\u001b[0m \u001b[43m    \u001b[49m\u001b[43mencoding\u001b[49m\u001b[38;5;241;43m=\u001b[39;49m\u001b[38;5;28;43mself\u001b[39;49m\u001b[38;5;241;43m.\u001b[39;49m\u001b[43moptions\u001b[49m\u001b[38;5;241;43m.\u001b[39;49m\u001b[43mget\u001b[49m\u001b[43m(\u001b[49m\u001b[38;5;124;43m\"\u001b[39;49m\u001b[38;5;124;43mencoding\u001b[39;49m\u001b[38;5;124;43m\"\u001b[39;49m\u001b[43m,\u001b[49m\u001b[43m \u001b[49m\u001b[38;5;28;43;01mNone\u001b[39;49;00m\u001b[43m)\u001b[49m\u001b[43m,\u001b[49m\n\u001b[0;32m   1884\u001b[0m \u001b[43m    \u001b[49m\u001b[43mcompression\u001b[49m\u001b[38;5;241;43m=\u001b[39;49m\u001b[38;5;28;43mself\u001b[39;49m\u001b[38;5;241;43m.\u001b[39;49m\u001b[43moptions\u001b[49m\u001b[38;5;241;43m.\u001b[39;49m\u001b[43mget\u001b[49m\u001b[43m(\u001b[49m\u001b[38;5;124;43m\"\u001b[39;49m\u001b[38;5;124;43mcompression\u001b[39;49m\u001b[38;5;124;43m\"\u001b[39;49m\u001b[43m,\u001b[49m\u001b[43m \u001b[49m\u001b[38;5;28;43;01mNone\u001b[39;49;00m\u001b[43m)\u001b[49m\u001b[43m,\u001b[49m\n\u001b[0;32m   1885\u001b[0m \u001b[43m    \u001b[49m\u001b[43mmemory_map\u001b[49m\u001b[38;5;241;43m=\u001b[39;49m\u001b[38;5;28;43mself\u001b[39;49m\u001b[38;5;241;43m.\u001b[39;49m\u001b[43moptions\u001b[49m\u001b[38;5;241;43m.\u001b[39;49m\u001b[43mget\u001b[49m\u001b[43m(\u001b[49m\u001b[38;5;124;43m\"\u001b[39;49m\u001b[38;5;124;43mmemory_map\u001b[39;49m\u001b[38;5;124;43m\"\u001b[39;49m\u001b[43m,\u001b[49m\u001b[43m \u001b[49m\u001b[38;5;28;43;01mFalse\u001b[39;49;00m\u001b[43m)\u001b[49m\u001b[43m,\u001b[49m\n\u001b[0;32m   1886\u001b[0m \u001b[43m    \u001b[49m\u001b[43mis_text\u001b[49m\u001b[38;5;241;43m=\u001b[39;49m\u001b[43mis_text\u001b[49m\u001b[43m,\u001b[49m\n\u001b[0;32m   1887\u001b[0m \u001b[43m    \u001b[49m\u001b[43merrors\u001b[49m\u001b[38;5;241;43m=\u001b[39;49m\u001b[38;5;28;43mself\u001b[39;49m\u001b[38;5;241;43m.\u001b[39;49m\u001b[43moptions\u001b[49m\u001b[38;5;241;43m.\u001b[39;49m\u001b[43mget\u001b[49m\u001b[43m(\u001b[49m\u001b[38;5;124;43m\"\u001b[39;49m\u001b[38;5;124;43mencoding_errors\u001b[39;49m\u001b[38;5;124;43m\"\u001b[39;49m\u001b[43m,\u001b[49m\u001b[43m \u001b[49m\u001b[38;5;124;43m\"\u001b[39;49m\u001b[38;5;124;43mstrict\u001b[39;49m\u001b[38;5;124;43m\"\u001b[39;49m\u001b[43m)\u001b[49m\u001b[43m,\u001b[49m\n\u001b[0;32m   1888\u001b[0m \u001b[43m    \u001b[49m\u001b[43mstorage_options\u001b[49m\u001b[38;5;241;43m=\u001b[39;49m\u001b[38;5;28;43mself\u001b[39;49m\u001b[38;5;241;43m.\u001b[39;49m\u001b[43moptions\u001b[49m\u001b[38;5;241;43m.\u001b[39;49m\u001b[43mget\u001b[49m\u001b[43m(\u001b[49m\u001b[38;5;124;43m\"\u001b[39;49m\u001b[38;5;124;43mstorage_options\u001b[39;49m\u001b[38;5;124;43m\"\u001b[39;49m\u001b[43m,\u001b[49m\u001b[43m \u001b[49m\u001b[38;5;28;43;01mNone\u001b[39;49;00m\u001b[43m)\u001b[49m\u001b[43m,\u001b[49m\n\u001b[0;32m   1889\u001b[0m \u001b[43m\u001b[49m\u001b[43m)\u001b[49m\n\u001b[0;32m   1890\u001b[0m \u001b[38;5;28;01massert\u001b[39;00m \u001b[38;5;28mself\u001b[39m\u001b[38;5;241m.\u001b[39mhandles \u001b[38;5;129;01mis\u001b[39;00m \u001b[38;5;129;01mnot\u001b[39;00m \u001b[38;5;28;01mNone\u001b[39;00m\n\u001b[0;32m   1891\u001b[0m f \u001b[38;5;241m=\u001b[39m \u001b[38;5;28mself\u001b[39m\u001b[38;5;241m.\u001b[39mhandles\u001b[38;5;241m.\u001b[39mhandle\n",
      "File \u001b[1;32m~\\AppData\\Local\\Programs\\Python\\Python313\\Lib\\site-packages\\pandas\\io\\common.py:873\u001b[0m, in \u001b[0;36mget_handle\u001b[1;34m(path_or_buf, mode, encoding, compression, memory_map, is_text, errors, storage_options)\u001b[0m\n\u001b[0;32m    868\u001b[0m \u001b[38;5;28;01melif\u001b[39;00m \u001b[38;5;28misinstance\u001b[39m(handle, \u001b[38;5;28mstr\u001b[39m):\n\u001b[0;32m    869\u001b[0m     \u001b[38;5;66;03m# Check whether the filename is to be opened in binary mode.\u001b[39;00m\n\u001b[0;32m    870\u001b[0m     \u001b[38;5;66;03m# Binary mode does not support 'encoding' and 'newline'.\u001b[39;00m\n\u001b[0;32m    871\u001b[0m     \u001b[38;5;28;01mif\u001b[39;00m ioargs\u001b[38;5;241m.\u001b[39mencoding \u001b[38;5;129;01mand\u001b[39;00m \u001b[38;5;124m\"\u001b[39m\u001b[38;5;124mb\u001b[39m\u001b[38;5;124m\"\u001b[39m \u001b[38;5;129;01mnot\u001b[39;00m \u001b[38;5;129;01min\u001b[39;00m ioargs\u001b[38;5;241m.\u001b[39mmode:\n\u001b[0;32m    872\u001b[0m         \u001b[38;5;66;03m# Encoding\u001b[39;00m\n\u001b[1;32m--> 873\u001b[0m         handle \u001b[38;5;241m=\u001b[39m \u001b[38;5;28;43mopen\u001b[39;49m\u001b[43m(\u001b[49m\n\u001b[0;32m    874\u001b[0m \u001b[43m            \u001b[49m\u001b[43mhandle\u001b[49m\u001b[43m,\u001b[49m\n\u001b[0;32m    875\u001b[0m \u001b[43m            \u001b[49m\u001b[43mioargs\u001b[49m\u001b[38;5;241;43m.\u001b[39;49m\u001b[43mmode\u001b[49m\u001b[43m,\u001b[49m\n\u001b[0;32m    876\u001b[0m \u001b[43m            \u001b[49m\u001b[43mencoding\u001b[49m\u001b[38;5;241;43m=\u001b[39;49m\u001b[43mioargs\u001b[49m\u001b[38;5;241;43m.\u001b[39;49m\u001b[43mencoding\u001b[49m\u001b[43m,\u001b[49m\n\u001b[0;32m    877\u001b[0m \u001b[43m            \u001b[49m\u001b[43merrors\u001b[49m\u001b[38;5;241;43m=\u001b[39;49m\u001b[43merrors\u001b[49m\u001b[43m,\u001b[49m\n\u001b[0;32m    878\u001b[0m \u001b[43m            \u001b[49m\u001b[43mnewline\u001b[49m\u001b[38;5;241;43m=\u001b[39;49m\u001b[38;5;124;43m\"\u001b[39;49m\u001b[38;5;124;43m\"\u001b[39;49m\u001b[43m,\u001b[49m\n\u001b[0;32m    879\u001b[0m \u001b[43m        \u001b[49m\u001b[43m)\u001b[49m\n\u001b[0;32m    880\u001b[0m     \u001b[38;5;28;01melse\u001b[39;00m:\n\u001b[0;32m    881\u001b[0m         \u001b[38;5;66;03m# Binary mode\u001b[39;00m\n\u001b[0;32m    882\u001b[0m         handle \u001b[38;5;241m=\u001b[39m \u001b[38;5;28mopen\u001b[39m(handle, ioargs\u001b[38;5;241m.\u001b[39mmode)\n",
      "\u001b[1;31mFileNotFoundError\u001b[0m: [Errno 2] No such file or directory: 'day.csv'"
     ]
    }
   ],
   "source": [
    "day_df = pd.read_csv (\"day.csv\")\n",
    "day_df.head()"
   ]
  },
  {
   "cell_type": "markdown",
   "id": "ac1cda7e-a578-4a4a-b591-e5ee9e375a9b",
   "metadata": {},
   "source": [
    "- **Memuat Data hour**"
   ]
  },
  {
   "cell_type": "code",
   "execution_count": 5,
   "id": "c1a5992a-6cf9-4b06-9ef4-24a5181f1183",
   "metadata": {},
   "outputs": [
    {
     "ename": "FileNotFoundError",
     "evalue": "[Errno 2] No such file or directory: 'hour.csv'",
     "output_type": "error",
     "traceback": [
      "\u001b[1;31m---------------------------------------------------------------------------\u001b[0m",
      "\u001b[1;31mFileNotFoundError\u001b[0m                         Traceback (most recent call last)",
      "Cell \u001b[1;32mIn[5], line 1\u001b[0m\n\u001b[1;32m----> 1\u001b[0m hour_df \u001b[38;5;241m=\u001b[39m \u001b[43mpd\u001b[49m\u001b[38;5;241;43m.\u001b[39;49m\u001b[43mread_csv\u001b[49m\u001b[43m(\u001b[49m\u001b[38;5;124;43m\"\u001b[39;49m\u001b[38;5;124;43mhour.csv\u001b[39;49m\u001b[38;5;124;43m\"\u001b[39;49m\u001b[43m)\u001b[49m\n\u001b[0;32m      2\u001b[0m hour_df\u001b[38;5;241m.\u001b[39mhead()\n",
      "File \u001b[1;32m~\\AppData\\Local\\Programs\\Python\\Python313\\Lib\\site-packages\\pandas\\io\\parsers\\readers.py:1026\u001b[0m, in \u001b[0;36mread_csv\u001b[1;34m(filepath_or_buffer, sep, delimiter, header, names, index_col, usecols, dtype, engine, converters, true_values, false_values, skipinitialspace, skiprows, skipfooter, nrows, na_values, keep_default_na, na_filter, verbose, skip_blank_lines, parse_dates, infer_datetime_format, keep_date_col, date_parser, date_format, dayfirst, cache_dates, iterator, chunksize, compression, thousands, decimal, lineterminator, quotechar, quoting, doublequote, escapechar, comment, encoding, encoding_errors, dialect, on_bad_lines, delim_whitespace, low_memory, memory_map, float_precision, storage_options, dtype_backend)\u001b[0m\n\u001b[0;32m   1013\u001b[0m kwds_defaults \u001b[38;5;241m=\u001b[39m _refine_defaults_read(\n\u001b[0;32m   1014\u001b[0m     dialect,\n\u001b[0;32m   1015\u001b[0m     delimiter,\n\u001b[1;32m   (...)\u001b[0m\n\u001b[0;32m   1022\u001b[0m     dtype_backend\u001b[38;5;241m=\u001b[39mdtype_backend,\n\u001b[0;32m   1023\u001b[0m )\n\u001b[0;32m   1024\u001b[0m kwds\u001b[38;5;241m.\u001b[39mupdate(kwds_defaults)\n\u001b[1;32m-> 1026\u001b[0m \u001b[38;5;28;01mreturn\u001b[39;00m \u001b[43m_read\u001b[49m\u001b[43m(\u001b[49m\u001b[43mfilepath_or_buffer\u001b[49m\u001b[43m,\u001b[49m\u001b[43m \u001b[49m\u001b[43mkwds\u001b[49m\u001b[43m)\u001b[49m\n",
      "File \u001b[1;32m~\\AppData\\Local\\Programs\\Python\\Python313\\Lib\\site-packages\\pandas\\io\\parsers\\readers.py:620\u001b[0m, in \u001b[0;36m_read\u001b[1;34m(filepath_or_buffer, kwds)\u001b[0m\n\u001b[0;32m    617\u001b[0m _validate_names(kwds\u001b[38;5;241m.\u001b[39mget(\u001b[38;5;124m\"\u001b[39m\u001b[38;5;124mnames\u001b[39m\u001b[38;5;124m\"\u001b[39m, \u001b[38;5;28;01mNone\u001b[39;00m))\n\u001b[0;32m    619\u001b[0m \u001b[38;5;66;03m# Create the parser.\u001b[39;00m\n\u001b[1;32m--> 620\u001b[0m parser \u001b[38;5;241m=\u001b[39m \u001b[43mTextFileReader\u001b[49m\u001b[43m(\u001b[49m\u001b[43mfilepath_or_buffer\u001b[49m\u001b[43m,\u001b[49m\u001b[43m \u001b[49m\u001b[38;5;241;43m*\u001b[39;49m\u001b[38;5;241;43m*\u001b[39;49m\u001b[43mkwds\u001b[49m\u001b[43m)\u001b[49m\n\u001b[0;32m    622\u001b[0m \u001b[38;5;28;01mif\u001b[39;00m chunksize \u001b[38;5;129;01mor\u001b[39;00m iterator:\n\u001b[0;32m    623\u001b[0m     \u001b[38;5;28;01mreturn\u001b[39;00m parser\n",
      "File \u001b[1;32m~\\AppData\\Local\\Programs\\Python\\Python313\\Lib\\site-packages\\pandas\\io\\parsers\\readers.py:1620\u001b[0m, in \u001b[0;36mTextFileReader.__init__\u001b[1;34m(self, f, engine, **kwds)\u001b[0m\n\u001b[0;32m   1617\u001b[0m     \u001b[38;5;28mself\u001b[39m\u001b[38;5;241m.\u001b[39moptions[\u001b[38;5;124m\"\u001b[39m\u001b[38;5;124mhas_index_names\u001b[39m\u001b[38;5;124m\"\u001b[39m] \u001b[38;5;241m=\u001b[39m kwds[\u001b[38;5;124m\"\u001b[39m\u001b[38;5;124mhas_index_names\u001b[39m\u001b[38;5;124m\"\u001b[39m]\n\u001b[0;32m   1619\u001b[0m \u001b[38;5;28mself\u001b[39m\u001b[38;5;241m.\u001b[39mhandles: IOHandles \u001b[38;5;241m|\u001b[39m \u001b[38;5;28;01mNone\u001b[39;00m \u001b[38;5;241m=\u001b[39m \u001b[38;5;28;01mNone\u001b[39;00m\n\u001b[1;32m-> 1620\u001b[0m \u001b[38;5;28mself\u001b[39m\u001b[38;5;241m.\u001b[39m_engine \u001b[38;5;241m=\u001b[39m \u001b[38;5;28;43mself\u001b[39;49m\u001b[38;5;241;43m.\u001b[39;49m\u001b[43m_make_engine\u001b[49m\u001b[43m(\u001b[49m\u001b[43mf\u001b[49m\u001b[43m,\u001b[49m\u001b[43m \u001b[49m\u001b[38;5;28;43mself\u001b[39;49m\u001b[38;5;241;43m.\u001b[39;49m\u001b[43mengine\u001b[49m\u001b[43m)\u001b[49m\n",
      "File \u001b[1;32m~\\AppData\\Local\\Programs\\Python\\Python313\\Lib\\site-packages\\pandas\\io\\parsers\\readers.py:1880\u001b[0m, in \u001b[0;36mTextFileReader._make_engine\u001b[1;34m(self, f, engine)\u001b[0m\n\u001b[0;32m   1878\u001b[0m     \u001b[38;5;28;01mif\u001b[39;00m \u001b[38;5;124m\"\u001b[39m\u001b[38;5;124mb\u001b[39m\u001b[38;5;124m\"\u001b[39m \u001b[38;5;129;01mnot\u001b[39;00m \u001b[38;5;129;01min\u001b[39;00m mode:\n\u001b[0;32m   1879\u001b[0m         mode \u001b[38;5;241m+\u001b[39m\u001b[38;5;241m=\u001b[39m \u001b[38;5;124m\"\u001b[39m\u001b[38;5;124mb\u001b[39m\u001b[38;5;124m\"\u001b[39m\n\u001b[1;32m-> 1880\u001b[0m \u001b[38;5;28mself\u001b[39m\u001b[38;5;241m.\u001b[39mhandles \u001b[38;5;241m=\u001b[39m \u001b[43mget_handle\u001b[49m\u001b[43m(\u001b[49m\n\u001b[0;32m   1881\u001b[0m \u001b[43m    \u001b[49m\u001b[43mf\u001b[49m\u001b[43m,\u001b[49m\n\u001b[0;32m   1882\u001b[0m \u001b[43m    \u001b[49m\u001b[43mmode\u001b[49m\u001b[43m,\u001b[49m\n\u001b[0;32m   1883\u001b[0m \u001b[43m    \u001b[49m\u001b[43mencoding\u001b[49m\u001b[38;5;241;43m=\u001b[39;49m\u001b[38;5;28;43mself\u001b[39;49m\u001b[38;5;241;43m.\u001b[39;49m\u001b[43moptions\u001b[49m\u001b[38;5;241;43m.\u001b[39;49m\u001b[43mget\u001b[49m\u001b[43m(\u001b[49m\u001b[38;5;124;43m\"\u001b[39;49m\u001b[38;5;124;43mencoding\u001b[39;49m\u001b[38;5;124;43m\"\u001b[39;49m\u001b[43m,\u001b[49m\u001b[43m \u001b[49m\u001b[38;5;28;43;01mNone\u001b[39;49;00m\u001b[43m)\u001b[49m\u001b[43m,\u001b[49m\n\u001b[0;32m   1884\u001b[0m \u001b[43m    \u001b[49m\u001b[43mcompression\u001b[49m\u001b[38;5;241;43m=\u001b[39;49m\u001b[38;5;28;43mself\u001b[39;49m\u001b[38;5;241;43m.\u001b[39;49m\u001b[43moptions\u001b[49m\u001b[38;5;241;43m.\u001b[39;49m\u001b[43mget\u001b[49m\u001b[43m(\u001b[49m\u001b[38;5;124;43m\"\u001b[39;49m\u001b[38;5;124;43mcompression\u001b[39;49m\u001b[38;5;124;43m\"\u001b[39;49m\u001b[43m,\u001b[49m\u001b[43m \u001b[49m\u001b[38;5;28;43;01mNone\u001b[39;49;00m\u001b[43m)\u001b[49m\u001b[43m,\u001b[49m\n\u001b[0;32m   1885\u001b[0m \u001b[43m    \u001b[49m\u001b[43mmemory_map\u001b[49m\u001b[38;5;241;43m=\u001b[39;49m\u001b[38;5;28;43mself\u001b[39;49m\u001b[38;5;241;43m.\u001b[39;49m\u001b[43moptions\u001b[49m\u001b[38;5;241;43m.\u001b[39;49m\u001b[43mget\u001b[49m\u001b[43m(\u001b[49m\u001b[38;5;124;43m\"\u001b[39;49m\u001b[38;5;124;43mmemory_map\u001b[39;49m\u001b[38;5;124;43m\"\u001b[39;49m\u001b[43m,\u001b[49m\u001b[43m \u001b[49m\u001b[38;5;28;43;01mFalse\u001b[39;49;00m\u001b[43m)\u001b[49m\u001b[43m,\u001b[49m\n\u001b[0;32m   1886\u001b[0m \u001b[43m    \u001b[49m\u001b[43mis_text\u001b[49m\u001b[38;5;241;43m=\u001b[39;49m\u001b[43mis_text\u001b[49m\u001b[43m,\u001b[49m\n\u001b[0;32m   1887\u001b[0m \u001b[43m    \u001b[49m\u001b[43merrors\u001b[49m\u001b[38;5;241;43m=\u001b[39;49m\u001b[38;5;28;43mself\u001b[39;49m\u001b[38;5;241;43m.\u001b[39;49m\u001b[43moptions\u001b[49m\u001b[38;5;241;43m.\u001b[39;49m\u001b[43mget\u001b[49m\u001b[43m(\u001b[49m\u001b[38;5;124;43m\"\u001b[39;49m\u001b[38;5;124;43mencoding_errors\u001b[39;49m\u001b[38;5;124;43m\"\u001b[39;49m\u001b[43m,\u001b[49m\u001b[43m \u001b[49m\u001b[38;5;124;43m\"\u001b[39;49m\u001b[38;5;124;43mstrict\u001b[39;49m\u001b[38;5;124;43m\"\u001b[39;49m\u001b[43m)\u001b[49m\u001b[43m,\u001b[49m\n\u001b[0;32m   1888\u001b[0m \u001b[43m    \u001b[49m\u001b[43mstorage_options\u001b[49m\u001b[38;5;241;43m=\u001b[39;49m\u001b[38;5;28;43mself\u001b[39;49m\u001b[38;5;241;43m.\u001b[39;49m\u001b[43moptions\u001b[49m\u001b[38;5;241;43m.\u001b[39;49m\u001b[43mget\u001b[49m\u001b[43m(\u001b[49m\u001b[38;5;124;43m\"\u001b[39;49m\u001b[38;5;124;43mstorage_options\u001b[39;49m\u001b[38;5;124;43m\"\u001b[39;49m\u001b[43m,\u001b[49m\u001b[43m \u001b[49m\u001b[38;5;28;43;01mNone\u001b[39;49;00m\u001b[43m)\u001b[49m\u001b[43m,\u001b[49m\n\u001b[0;32m   1889\u001b[0m \u001b[43m\u001b[49m\u001b[43m)\u001b[49m\n\u001b[0;32m   1890\u001b[0m \u001b[38;5;28;01massert\u001b[39;00m \u001b[38;5;28mself\u001b[39m\u001b[38;5;241m.\u001b[39mhandles \u001b[38;5;129;01mis\u001b[39;00m \u001b[38;5;129;01mnot\u001b[39;00m \u001b[38;5;28;01mNone\u001b[39;00m\n\u001b[0;32m   1891\u001b[0m f \u001b[38;5;241m=\u001b[39m \u001b[38;5;28mself\u001b[39m\u001b[38;5;241m.\u001b[39mhandles\u001b[38;5;241m.\u001b[39mhandle\n",
      "File \u001b[1;32m~\\AppData\\Local\\Programs\\Python\\Python313\\Lib\\site-packages\\pandas\\io\\common.py:873\u001b[0m, in \u001b[0;36mget_handle\u001b[1;34m(path_or_buf, mode, encoding, compression, memory_map, is_text, errors, storage_options)\u001b[0m\n\u001b[0;32m    868\u001b[0m \u001b[38;5;28;01melif\u001b[39;00m \u001b[38;5;28misinstance\u001b[39m(handle, \u001b[38;5;28mstr\u001b[39m):\n\u001b[0;32m    869\u001b[0m     \u001b[38;5;66;03m# Check whether the filename is to be opened in binary mode.\u001b[39;00m\n\u001b[0;32m    870\u001b[0m     \u001b[38;5;66;03m# Binary mode does not support 'encoding' and 'newline'.\u001b[39;00m\n\u001b[0;32m    871\u001b[0m     \u001b[38;5;28;01mif\u001b[39;00m ioargs\u001b[38;5;241m.\u001b[39mencoding \u001b[38;5;129;01mand\u001b[39;00m \u001b[38;5;124m\"\u001b[39m\u001b[38;5;124mb\u001b[39m\u001b[38;5;124m\"\u001b[39m \u001b[38;5;129;01mnot\u001b[39;00m \u001b[38;5;129;01min\u001b[39;00m ioargs\u001b[38;5;241m.\u001b[39mmode:\n\u001b[0;32m    872\u001b[0m         \u001b[38;5;66;03m# Encoding\u001b[39;00m\n\u001b[1;32m--> 873\u001b[0m         handle \u001b[38;5;241m=\u001b[39m \u001b[38;5;28;43mopen\u001b[39;49m\u001b[43m(\u001b[49m\n\u001b[0;32m    874\u001b[0m \u001b[43m            \u001b[49m\u001b[43mhandle\u001b[49m\u001b[43m,\u001b[49m\n\u001b[0;32m    875\u001b[0m \u001b[43m            \u001b[49m\u001b[43mioargs\u001b[49m\u001b[38;5;241;43m.\u001b[39;49m\u001b[43mmode\u001b[49m\u001b[43m,\u001b[49m\n\u001b[0;32m    876\u001b[0m \u001b[43m            \u001b[49m\u001b[43mencoding\u001b[49m\u001b[38;5;241;43m=\u001b[39;49m\u001b[43mioargs\u001b[49m\u001b[38;5;241;43m.\u001b[39;49m\u001b[43mencoding\u001b[49m\u001b[43m,\u001b[49m\n\u001b[0;32m    877\u001b[0m \u001b[43m            \u001b[49m\u001b[43merrors\u001b[49m\u001b[38;5;241;43m=\u001b[39;49m\u001b[43merrors\u001b[49m\u001b[43m,\u001b[49m\n\u001b[0;32m    878\u001b[0m \u001b[43m            \u001b[49m\u001b[43mnewline\u001b[49m\u001b[38;5;241;43m=\u001b[39;49m\u001b[38;5;124;43m\"\u001b[39;49m\u001b[38;5;124;43m\"\u001b[39;49m\u001b[43m,\u001b[49m\n\u001b[0;32m    879\u001b[0m \u001b[43m        \u001b[49m\u001b[43m)\u001b[49m\n\u001b[0;32m    880\u001b[0m     \u001b[38;5;28;01melse\u001b[39;00m:\n\u001b[0;32m    881\u001b[0m         \u001b[38;5;66;03m# Binary mode\u001b[39;00m\n\u001b[0;32m    882\u001b[0m         handle \u001b[38;5;241m=\u001b[39m \u001b[38;5;28mopen\u001b[39m(handle, ioargs\u001b[38;5;241m.\u001b[39mmode)\n",
      "\u001b[1;31mFileNotFoundError\u001b[0m: [Errno 2] No such file or directory: 'hour.csv'"
     ]
    }
   ],
   "source": [
    "hour_df = pd.read_csv(\"hour.csv\")\n",
    "hour_df.head()"
   ]
  },
  {
   "cell_type": "markdown",
   "id": "8c727a12-f289-4150-8d1f-7b4b024d7462",
   "metadata": {},
   "source": [
    "**Insight:**\n",
    "- Pada Bike-sharing-dataset, terdapat dua data berformat .csv yaitu:\n",
    "1. day.csv\n",
    "2. hour.csv"
   ]
  },
  {
   "cell_type": "markdown",
   "id": "2fd26d7c-c8ca-44c4-8b93-1baf1a903db0",
   "metadata": {},
   "source": [
    "### Assessing Data"
   ]
  },
  {
   "cell_type": "markdown",
   "id": "ff4e9d35-a615-43fc-a50b-f0dcdce09759",
   "metadata": {},
   "source": [
    "- **Menilai Data day_df**"
   ]
  },
  {
   "cell_type": "code",
   "execution_count": null,
   "id": "ede07ab2-d642-405b-88fb-606a2659fc70",
   "metadata": {},
   "outputs": [],
   "source": [
    "day_df.info()"
   ]
  },
  {
   "cell_type": "markdown",
   "id": "f7e5d671-c668-4949-882b-ed73102e6190",
   "metadata": {},
   "source": [
    "- **Mengecek jumlah duplikasi dan ringkasan parameter statistik yang terdapat dalam day_df**"
   ]
  },
  {
   "cell_type": "code",
   "execution_count": null,
   "id": "a958f9da-58b7-4791-92d3-d8e67a9f36e6",
   "metadata": {},
   "outputs": [],
   "source": [
    "print(\"Jumlah duplikasi: \", day_df.duplicated().sum())\n",
    "day_df.describe()"
   ]
  },
  {
   "cell_type": "markdown",
   "id": "f45a3b64-4119-400b-8d85-964fc8bd605d",
   "metadata": {},
   "source": [
    "- **Mengecek missing value yang terdapat dalam day_df**"
   ]
  },
  {
   "cell_type": "code",
   "execution_count": null,
   "id": "0123a19d-57ab-4972-a5f6-972fcd97d6c2",
   "metadata": {},
   "outputs": [],
   "source": [
    "day_df.isna().sum()"
   ]
  },
  {
   "cell_type": "markdown",
   "id": "ec324edf-042c-4d65-a55f-8a67ee85c0d3",
   "metadata": {},
   "source": [
    "- **Menilai Data hour_df**"
   ]
  },
  {
   "cell_type": "code",
   "execution_count": null,
   "id": "6a9968ff-d40f-49e4-ae2b-80fcc8c9e3f1",
   "metadata": {},
   "outputs": [],
   "source": [
    "hour_df.info()"
   ]
  },
  {
   "cell_type": "markdown",
   "id": "217d7b77-32ae-40fa-97f6-e78097df7ea5",
   "metadata": {},
   "source": [
    "- **Mengecek jumlah duplikasi dan ringkasan parameter statistik yang terdapat dalam hour_df**"
   ]
  },
  {
   "cell_type": "code",
   "execution_count": null,
   "id": "aea8694f-f609-4273-b412-17e8d4298e4a",
   "metadata": {},
   "outputs": [],
   "source": [
    "print(\"Jumlah duplikasi: \", hour_df.duplicated().sum())\n",
    "hour_df.describe()"
   ]
  },
  {
   "cell_type": "markdown",
   "id": "9479c3e6-a7e8-4529-945e-081e8df129fc",
   "metadata": {},
   "source": [
    "- **Mengecek missing value yang terdapat dalam hour_df**"
   ]
  },
  {
   "cell_type": "code",
   "execution_count": null,
   "id": "0aa6935c-7e48-4fa3-833c-9ea1a013aad0",
   "metadata": {},
   "outputs": [],
   "source": [
    "hour_df.isna().sum()"
   ]
  },
  {
   "cell_type": "markdown",
   "id": "1d86fd30-5dc9-45e6-a03d-5b582591224b",
   "metadata": {},
   "source": [
    "**Insight:**\n",
    "  \n",
    "Menurut informasi diatas :\n",
    "- Jumlah data pada day_df dan hour_df sudah lengkap, artinya kedua data tidak ada missing value didalamnya, dan masing-masing data tidak ada duplikasi serta tidak ada keanehan dalam ringkasan parameter statistik dari kedua data;\n",
    "- Terdapat ketidaksesuaian/kesalahan tipe data dari dua data diatas, Seharusnya kolom dteday direpresentasikan sebagai tipe data **datetime**, bukan **object**;\n",
    "- Kolom **season, yr, mnth, holiday, weekday, workingday dan weathershit** bisa direpresentasikan dalam tipe data category, karena bernilai kelompok/kategori dengan jumlah terbatas;\n",
    "- Sebaiknya mengganti nama kolom dan mengkonversi nilai dalam kolom agar mudah dipahami."
   ]
  },
  {
   "cell_type": "markdown",
   "id": "10a9c648-2ec6-4960-9be7-ae4784e6441a",
   "metadata": {},
   "source": [
    "### Cleaning Data"
   ]
  },
  {
   "cell_type": "markdown",
   "id": "40a542ca-146f-4b47-9927-a4870dc58c85",
   "metadata": {},
   "source": [
    "**Membersihkan Data day_df dan hour_df**"
   ]
  },
  {
   "cell_type": "markdown",
   "id": "36eef33c-2990-4400-88a0-6bdab158cb51",
   "metadata": {},
   "source": [
    "- **Mengganti tipe data object menjadi datetime pada day_df dan hour_df**"
   ]
  },
  {
   "cell_type": "code",
   "execution_count": null,
   "id": "a75bf6a1-9b61-49f7-96b7-469b651ba996",
   "metadata": {},
   "outputs": [],
   "source": [
    "datetime_columns = [\"dteday\"]\n",
    "\n",
    "for column in datetime_columns:\n",
    "    day_df[column] = pd.to_datetime(day_df[column])\n",
    "    hour_df[column] = pd.to_datetime(hour_df[column])"
   ]
  },
  {
   "cell_type": "markdown",
   "id": "484b1450-9474-4d91-a096-ae6852f10495",
   "metadata": {},
   "source": [
    "- **Mengganti tipe data int menjadi category pada day_df dan hour_df**"
   ]
  },
  {
   "cell_type": "code",
   "execution_count": null,
   "id": "bfaac9cc-527a-46bf-ab2f-77b5c740be74",
   "metadata": {},
   "outputs": [],
   "source": [
    "category_columns = [\"season\", \"yr\", \"mnth\", \"holiday\", \"weekday\", \"workingday\", \"weathersit\"]\n",
    "\n",
    "for column in category_columns:\n",
    "    day_df[column] = day_df[column].astype (\"category\")\n",
    "    hour_df[column] = hour_df[column].astype (\"category\")"
   ]
  },
  {
   "cell_type": "markdown",
   "id": "39849d59-ee8c-4273-954e-ec31e63f692d",
   "metadata": {},
   "source": [
    "- **Cek! apakah sudah terganti?**"
   ]
  },
  {
   "cell_type": "code",
   "execution_count": null,
   "id": "e8156014-b170-49aa-934c-cf697b148a89",
   "metadata": {},
   "outputs": [],
   "source": [
    "day_df.info()\n",
    "hour_df.info()"
   ]
  },
  {
   "cell_type": "markdown",
   "id": "429a7a87-bbfb-44bd-b9b1-9f7992a811e5",
   "metadata": {},
   "source": [
    "- **Mengganti nama kolom pada day_df dan hour_df agar lebih mudah dibaca**"
   ]
  },
  {
   "cell_type": "code",
   "execution_count": null,
   "id": "2e173345-568c-45b6-8d30-38a3d131d7b4",
   "metadata": {},
   "outputs": [],
   "source": [
    "day_df.rename (columns = {\"dteday\":\"date_day\",\"yr\": \"year\", \"mnth\": \"month\", \"cnt\":\"count\"}, inplace = True)"
   ]
  },
  {
   "cell_type": "code",
   "execution_count": null,
   "id": "9f709476-bbd9-4dfa-9b9e-cae468450f04",
   "metadata": {},
   "outputs": [],
   "source": [
    "hour_df.rename (columns = {\"dteday\":\"date_day\",\"yr\":\"year\",\"mnth\":\"month\",\"hr\":\"hours\",\"cnt\":\"count\"}, inplace = True)"
   ]
  },
  {
   "cell_type": "code",
   "execution_count": null,
   "id": "406a776c-7a08-4df3-89d5-8321690a99c0",
   "metadata": {},
   "outputs": [],
   "source": [
    "day_df.head()"
   ]
  },
  {
   "cell_type": "code",
   "execution_count": null,
   "id": "800afc09-c009-45b0-8f89-b6bdc07ff6d1",
   "metadata": {},
   "outputs": [],
   "source": [
    "hour_df.head()"
   ]
  },
  {
   "cell_type": "markdown",
   "id": "b558fe16-2a87-453f-bd25-c32b66a2a507",
   "metadata": {},
   "source": [
    "- **Mengkonversi nilai pada kolom season dalam day_df dan hour_df**"
   ]
  },
  {
   "cell_type": "code",
   "execution_count": null,
   "id": "0ee904a9-595e-41ca-abc9-fb1cab963ca7",
   "metadata": {},
   "outputs": [],
   "source": [
    "day_df[\"season\"] = day_df[\"season\"].cat.rename_categories({1:\"Spring\", 2:\"Summer\", 3:\"Fall\", 4: \"Winter\"})"
   ]
  },
  {
   "cell_type": "code",
   "execution_count": null,
   "id": "7fe21c02-ab02-4a71-9112-73e9fd894f90",
   "metadata": {},
   "outputs": [],
   "source": [
    "day_df.head()"
   ]
  },
  {
   "cell_type": "code",
   "execution_count": null,
   "id": "cf703fe2-f031-4d92-938d-365ce70fa591",
   "metadata": {},
   "outputs": [],
   "source": [
    "hour_df[\"season\"]= hour_df[\"season\"].cat.rename_categories({1:\"Spring\", 2:\"Summer\", 3:\"Fall\", 4: \"Winter\"})"
   ]
  },
  {
   "cell_type": "code",
   "execution_count": null,
   "id": "4de0886f-d4cf-4d43-a351-2a408cf1a43d",
   "metadata": {},
   "outputs": [],
   "source": [
    "hour_df.head()"
   ]
  },
  {
   "cell_type": "markdown",
   "id": "50c2e7f0-2468-49fb-934f-33db2e52f565",
   "metadata": {},
   "source": [
    "- **Mengkonversi nilai pada kolom year dalam day_df dan hour_df**"
   ]
  },
  {
   "cell_type": "code",
   "execution_count": null,
   "id": "3d2ffe41-50ab-470f-8d15-0158341b6bf8",
   "metadata": {},
   "outputs": [],
   "source": [
    "day_df[\"year\"] = day_df[\"year\"].cat.rename_categories({0:2011, 1:2012})"
   ]
  },
  {
   "cell_type": "code",
   "execution_count": null,
   "id": "22ea19c5-91b4-41f5-a907-201f3cd44aa7",
   "metadata": {},
   "outputs": [],
   "source": [
    "day_df.head()"
   ]
  },
  {
   "cell_type": "code",
   "execution_count": null,
   "id": "5d6ab8ec-2057-420f-a971-02c195efb0d9",
   "metadata": {},
   "outputs": [],
   "source": [
    "hour_df[\"year\"] = hour_df[\"year\"].cat.rename_categories({0:2011, 1:2012})"
   ]
  },
  {
   "cell_type": "code",
   "execution_count": null,
   "id": "2e0834e6-40df-48fe-a601-5662a059d41d",
   "metadata": {},
   "outputs": [],
   "source": [
    "hour_df.head()"
   ]
  },
  {
   "cell_type": "markdown",
   "id": "b500f2fe-1d4d-40b7-a382-828bab7d9404",
   "metadata": {},
   "source": [
    "- **Mengkonversi nilai pada kolom month dalam day_df dan hour_df**"
   ]
  },
  {
   "cell_type": "code",
   "execution_count": null,
   "id": "f73504ac-bc58-4b64-b048-a68473086092",
   "metadata": {},
   "outputs": [],
   "source": [
    "day_df[\"month\"] = day_df[\"month\"].cat.rename_categories({1:\"Jan\", 2: \"Feb\", 3:\"Mar\", 4:\"Apr\", 5:\"Mei\", 6:\"Jun\", 7:\"Jul\", 8:\"Ags\", 9:\"Sept\", 10:\"Okt\", 11:\"Nov\", 12:\"Des\"})"
   ]
  },
  {
   "cell_type": "code",
   "execution_count": null,
   "id": "af9a7cb8-84b5-4969-a911-0e9ba8cdc8b4",
   "metadata": {},
   "outputs": [],
   "source": [
    "day_df.head()"
   ]
  },
  {
   "cell_type": "code",
   "execution_count": null,
   "id": "a036faa7-6748-4c70-a1c3-668dd2b4a0cc",
   "metadata": {},
   "outputs": [],
   "source": [
    "hour_df[\"month\"] = hour_df[\"month\"].cat.rename_categories({1:\"Jan\", 2: \"Feb\", 3:\"Mar\", 4:\"Apr\", 5:\"Mei\", 6:\"Jun\", 7:\"Jul\", 8:\"Ags\", 9:\"Sept\", 10:\"Okt\", 11:\"Nov\", 12:\"Des\"})"
   ]
  },
  {
   "cell_type": "code",
   "execution_count": null,
   "id": "4f207671-c998-488e-89e1-6266aa8901f3",
   "metadata": {},
   "outputs": [],
   "source": [
    "hour_df.head()"
   ]
  },
  {
   "cell_type": "markdown",
   "id": "d7a82128-afe5-4c3a-aeb5-4c30fc513222",
   "metadata": {},
   "source": [
    "- **Mengkonversi nilai pada kolom weekday dalam day_df dan hour_df**"
   ]
  },
  {
   "cell_type": "code",
   "execution_count": null,
   "id": "216aebfc-1be1-47cd-b726-9d425c82bc8e",
   "metadata": {},
   "outputs": [],
   "source": [
    "day_df[\"weekday\"] = day_df[\"weekday\"].cat.rename_categories({0:\"Sunday\", 1: \"Monday\", 2:\"Tuesday\", 3:\"Wednesday\", 4:\"Thursday\", 5:\"Friday\", 6:\"Saturday\"})"
   ]
  },
  {
   "cell_type": "code",
   "execution_count": null,
   "id": "5f479fe6-9bb5-4420-b220-33018a39aa09",
   "metadata": {},
   "outputs": [],
   "source": [
    "day_df.head()"
   ]
  },
  {
   "cell_type": "code",
   "execution_count": null,
   "id": "23751c65-68af-4541-9df7-4fd16b9bf0ee",
   "metadata": {},
   "outputs": [],
   "source": [
    "hour_df[\"weekday\"] = hour_df[\"weekday\"].cat.rename_categories({0:\"Sunday\", 1: \"Monday\", 2:\"Tuesday\", 3:\"Wednesday\", 4:\"Thursday\", 5:\"Friday\", 6:\"Saturday\"})"
   ]
  },
  {
   "cell_type": "code",
   "execution_count": null,
   "id": "a4c2ada0-0ee0-4d15-98a9-3c7352023cf9",
   "metadata": {},
   "outputs": [],
   "source": [
    "hour_df.head()"
   ]
  },
  {
   "cell_type": "markdown",
   "id": "5cfe27e0-5e62-41aa-b4a3-aa52b5863746",
   "metadata": {},
   "source": [
    "- **Mengkonversi nilai pada kolom workingday dalam day_df dan hour_df**"
   ]
  },
  {
   "cell_type": "code",
   "execution_count": null,
   "id": "084167b9-903c-42ed-bc68-e36c3e47342c",
   "metadata": {},
   "outputs": [],
   "source": [
    "day_df[\"workingday\"] = day_df[\"workingday\"].cat.rename_categories({0: \"Hari Libur\", 1:\"Hari Kerja\"})"
   ]
  },
  {
   "cell_type": "code",
   "execution_count": null,
   "id": "75c5f6ee-d759-45a2-b1c5-9004bce5e8a8",
   "metadata": {},
   "outputs": [],
   "source": [
    "day_df.head()"
   ]
  },
  {
   "cell_type": "code",
   "execution_count": null,
   "id": "6000ca7e-2357-4dbc-9c61-08cf13f54120",
   "metadata": {},
   "outputs": [],
   "source": [
    "hour_df[\"workingday\"] = hour_df[\"workingday\"].cat.rename_categories({0: \"Hari Libur\", 1:\"Hari Kerja\"})"
   ]
  },
  {
   "cell_type": "code",
   "execution_count": null,
   "id": "4e714fd0-a544-4699-985d-38c6f3f3b28b",
   "metadata": {},
   "outputs": [],
   "source": [
    "hour_df.head()"
   ]
  },
  {
   "cell_type": "markdown",
   "id": "2e5532e6-1c1b-4dca-bf33-673ffc87acf7",
   "metadata": {},
   "source": [
    "- **Mengkonversi nilai pada kolom weathersit dalam day_df dan hour_df**"
   ]
  },
  {
   "cell_type": "code",
   "execution_count": null,
   "id": "a9b0cf37-94f1-426d-a4cf-1df589d9849b",
   "metadata": {},
   "outputs": [],
   "source": [
    "day_df[\"weathersit\"] = day_df[\"weathersit\"].cat.rename_categories({1: \"Clear\", 2:\"Mist+Cloudy\", 3:\"Light Snow\", 4:\"Heavy Rain + Ice Pallets\"})"
   ]
  },
  {
   "cell_type": "code",
   "execution_count": null,
   "id": "71127617-cb42-4ea4-90a6-7c22b6c7fc47",
   "metadata": {},
   "outputs": [],
   "source": [
    "day_df.head()"
   ]
  },
  {
   "cell_type": "code",
   "execution_count": null,
   "id": "e579e5af-d3a4-4fd9-a079-563f37b0747f",
   "metadata": {},
   "outputs": [],
   "source": [
    "hour_df[\"weathersit\"] = hour_df[\"weathersit\"].cat.rename_categories({1: \"Clear\", 2:\"Mist+Cloudy\", 3:\"Light Snow\", 4:\"Heavy Rain + Ice Pallets\"})"
   ]
  },
  {
   "cell_type": "code",
   "execution_count": null,
   "id": "9b370284-2a2f-4008-bfe5-d4c68f3dc1d2",
   "metadata": {},
   "outputs": [],
   "source": [
    "hour_df.head()"
   ]
  },
  {
   "cell_type": "markdown",
   "id": "f04a45b4-32fa-40d0-be86-ca2b5cb51c3d",
   "metadata": {},
   "source": [
    "**Insight:**\n",
    "\n",
    "- Berdasarkan hasil proses assessing data, diketahui terdapat kesalahan tipe data untuk kolom dteday yang ada pada day_df maupun hour_df. Jadi, untuk mengatasi masalah ini, pada tahap cleaning data dilakukan penggantian tipe data pada **kolom \"dteday\" yang semula object diganti menjadi datetime**. Selain itu, pada tahap cleaning data dilakukan penggantian tipe data pada **kolom \"season\", \"year\", \"month\", \"holiday\", \"weekday\", \"workingday\", dan \"weathersit\" yang semula int diganti menjadi category**;\n",
    "- Melakukan penggantian nama kolom agar mudah dibaca, yakni:\n",
    "    1. dteday menjadi date_day\n",
    "    2. yr menjadi year\n",
    "    3. mnth menjadi month\n",
    "    4. hr menjadi hours\n",
    "    5. cnt menjadi count\n",
    "- Melakukan konversi nilai pada kolom season, year, month, weekday, workingday, dan weathersit agar mudah dipahami, yakni:\n",
    "    1. season : 1 = Spring, 2 = Summer, 3 = Fall, 4 = Winter\n",
    "    2. year : 0 = 2011, 1 = 2012\n",
    "    3. month : 1 = Jan, 2 = Feb, 3 = Mar, 4 = Apr, 5 = Mei, 6 = Jun, 7 = Jul, 8 = Ags, 9 = Sept, 10 = Okt, 11 = Nov, 12 = Des\n",
    "    4. weekday : 0 = Sunday, 1 = Monday, 2 = Tuesday, 3 = Wednesday, 4 = Thursday, 5 = Friday, 6 = Saturday\n",
    "    5. workingday : 0 = Hari libur, 1 = Hari kerja\n",
    "    6. weathersit : 1 = Clear, 2 = Mist+Cloudy, 3 = Light Snow, 4 = Heavy Rain + Ice Pallets"
   ]
  },
  {
   "cell_type": "markdown",
   "id": "7a3e7175-8328-4f46-bc32-76633c80a6ad",
   "metadata": {},
   "source": [
    "## Exploratory Data Analysis (EDA)"
   ]
  },
  {
   "cell_type": "markdown",
   "id": "817a7031-697c-48fb-8d58-9b9d81f48611",
   "metadata": {},
   "source": [
    "### Explore Data day_df"
   ]
  },
  {
   "cell_type": "markdown",
   "id": "e79a68b4-c6e5-419f-9d3b-fff5ef6c8289",
   "metadata": {},
   "source": [
    "- **Menampilkan ringkasan parameter statistik dari data day_df**"
   ]
  },
  {
   "cell_type": "code",
   "execution_count": null,
   "id": "c0fc336a-f807-4086-86af-bea2dff5f3b9",
   "metadata": {},
   "outputs": [],
   "source": [
    "day_df.describe(include = \"all\")"
   ]
  },
  {
   "cell_type": "markdown",
   "id": "10e8fe69-a1a3-414e-b481-983d8188454c",
   "metadata": {},
   "source": [
    "- **Menampilkan data jumlah penyewaan sepeda berdasarkan musim dalam data day_df**"
   ]
  },
  {
   "cell_type": "code",
   "execution_count": null,
   "id": "ff97177a-ef7f-485a-afba-d32575527097",
   "metadata": {},
   "outputs": [],
   "source": [
    "day_df.groupby(by = [\"season\"], observed = True)[\"count\"].sum()"
   ]
  },
  {
   "cell_type": "markdown",
   "id": "dc1d95cd-2b48-45ac-8971-c26a954c5f49",
   "metadata": {},
   "source": [
    "- **Menampilkan data jumlah penyewaan sepeda per-tahun dalam data day_df**"
   ]
  },
  {
   "cell_type": "code",
   "execution_count": null,
   "id": "191fbb69-fc7e-4410-bfa5-20caa1ccc7a9",
   "metadata": {},
   "outputs": [],
   "source": [
    "day_df.groupby(by = [\"year\",\"month\"], observed = True)[\"count\"].sum()"
   ]
  },
  {
   "cell_type": "markdown",
   "id": "7f49fe79-482b-48ff-9135-c22af86bb3e1",
   "metadata": {},
   "source": [
    "- **Menampilkan data jumlah penyewaan sepeda berdasarkan hari libur dan hari kerja dalam data day_df**"
   ]
  },
  {
   "cell_type": "code",
   "execution_count": null,
   "id": "236f3803-e58a-4e62-8021-bccdbaf934d2",
   "metadata": {},
   "outputs": [],
   "source": [
    "day_df.groupby(by = [\"workingday\"], observed = True)[\"count\"].sum()"
   ]
  },
  {
   "cell_type": "markdown",
   "id": "be1ace2b-b71f-43d4-bc8e-b45d069eee00",
   "metadata": {},
   "source": [
    "- **Menampilkan data jumlah penyewaan sepeda berdasarkan cuaca dalam data day_df**"
   ]
  },
  {
   "cell_type": "code",
   "execution_count": null,
   "id": "86ab5885-8d7d-4a58-b777-a78d5b9b367c",
   "metadata": {},
   "outputs": [],
   "source": [
    "day_df.groupby(by = [\"weathersit\"], observed = True)[\"count\"].sum()"
   ]
  },
  {
   "cell_type": "markdown",
   "id": "982c1856-f4e1-43ed-b493-2c24d4843b0b",
   "metadata": {},
   "source": [
    "- **Menampilkan data jumlah penyewaan sepeda berdasarkan hari dalam seminggu dalam data day_df**"
   ]
  },
  {
   "cell_type": "code",
   "execution_count": null,
   "id": "f60c7b6e-0e4e-4c22-80a1-fed5d19b12d4",
   "metadata": {},
   "outputs": [],
   "source": [
    "day_df.groupby(by = [\"weekday\"], observed = True)[\"count\"].sum()"
   ]
  },
  {
   "cell_type": "markdown",
   "id": "bf6b0133-785b-4f98-b391-8ae00a7ad8c7",
   "metadata": {},
   "source": [
    "- **Menampilkan data jumlah penyewaan sepeda berdasarkan pengguna biasa dan pengguna terdaftar per-tahun dalam data day_df**"
   ]
  },
  {
   "cell_type": "code",
   "execution_count": null,
   "id": "ae8b19a8-521e-402f-b80e-d5b8fd743a8f",
   "metadata": {},
   "outputs": [],
   "source": [
    "day_df.groupby(by = [\"year\"], observed = True).agg({\n",
    "    \"registered\":\"sum\",\n",
    "    \"casual\" : \"sum\"\n",
    "})"
   ]
  },
  {
   "cell_type": "markdown",
   "id": "85218d88-09a0-4c38-a0ac-2106fee49e1d",
   "metadata": {},
   "source": [
    "- **Menampilkan data jumlah penyewaan sepeda berdasarkan hari libur Nasional (tanggal merah) dan per-tahun dalam data day_df**"
   ]
  },
  {
   "cell_type": "code",
   "execution_count": null,
   "id": "fd8cc6b1-a676-4c4a-9b77-48feb50a5a1b",
   "metadata": {},
   "outputs": [],
   "source": [
    "day_df[day_df[\"holiday\"] == 1].groupby(by=[\"year\"], observed=True).agg({\n",
    "    \"count\": \"sum\",\n",
    "})"
   ]
  },
  {
   "cell_type": "markdown",
   "id": "e2c50d1c-14de-4da0-ab67-08b790412baf",
   "metadata": {},
   "source": [
    "### Explore Data hour_df"
   ]
  },
  {
   "cell_type": "markdown",
   "id": "f6835f1f-5bc0-47b7-ad5d-7c8719d89328",
   "metadata": {},
   "source": [
    "- **Menampilkan ringkasan parameter statistik dari data hour_df**"
   ]
  },
  {
   "cell_type": "code",
   "execution_count": null,
   "id": "e1671cde-6fc7-48c0-8113-1401385fa7d5",
   "metadata": {},
   "outputs": [],
   "source": [
    "hour_df.describe(include =\"all\")"
   ]
  },
  {
   "cell_type": "markdown",
   "id": "b1b2c763-1a43-4373-90f8-77c3e18b27ac",
   "metadata": {},
   "source": [
    "- **Menampilkan data jumlah penyewaan sepeda berdasarkan jam dari data hour_df**"
   ]
  },
  {
   "cell_type": "code",
   "execution_count": null,
   "id": "7ef78024-75b0-4705-a63b-4c71a4ed75e6",
   "metadata": {},
   "outputs": [],
   "source": [
    "hour_df.groupby(by = [\"hours\"], observed = True)[\"count\"].sum()"
   ]
  },
  {
   "cell_type": "markdown",
   "id": "96b13516-88bb-401a-a8cc-738f5b211042",
   "metadata": {},
   "source": [
    "- **Menampilkan data jumlah penyewaan sepeda berdasarkan jam dan per-tahun dari data hour_df**"
   ]
  },
  {
   "cell_type": "code",
   "execution_count": null,
   "id": "caf46d88-9096-4227-9f8c-1454bb4e688c",
   "metadata": {},
   "outputs": [],
   "source": [
    "hour_df.groupby(by=[\"year\", \"hours\"], observed=True).agg({\n",
    "    \"count\": \"sum\"\n",
    "})"
   ]
  },
  {
   "cell_type": "markdown",
   "id": "1d389eff-5b1a-4986-a58d-a4dac4ba620f",
   "metadata": {},
   "source": [
    "**Insight:**\n",
    "- Berdasarkan ringkasan parameter statistik dari data day_df, diperoleh informasi bahwa total jumlah penyewa sepeda dari tanggal 01-01-2011 sampai 31-12-2012 adalah sebanyak 731 penyewa. Selain itu juga diperoleh informasi:\n",
    "    1. Berdasarkan musim, jumlah penyewaan sepeda pada musim fall (musim gugur) ada sebanyak 1061129 penyewa, musim summer (musim panas) ada sebanyak 918589 penyewa, musim spring (musim semi) ada sebanyak 471348 penyewa dan musim winter (musim dingin) ada sebanyak 841613 penyewa.\n",
    "    2. Berdasarkan tahun, jumlah penyewaan sepeda tertinggi ada di tahun 2012 yakni sebanyak 2049576 dan tahun 2011 yakni 1243103 penyewa.\n",
    "    3. Diperoleh informasi bahwa jumlah penyewa sepeda di hari kerja lebih banyak dibandingkan dengan hari libur, yakni pada saat hari kerja ada sebanyak  2292410 penyewa, sedangkan ketika hari libur hanya ada 1000269 penyewa.\n",
    "    4. Berdasarkan cuaca, diperoleh informasi bahwa ketika clear (cuaca cerah) ada sebanyak 2257952 penyewa, mist+cloudy (kabut,berawan) ada sebanyak 996858 penyewa, dan light snow (salju) ada sebanyak 37869 penyewa.\n",
    "    5. Berdasarkan hari dalam satu minggu jumlah penyewaan sepeda pada Sunday 444027 penyewa, Monday: 455503 penyewa, Tuesday: 469109 penyewa, Wednesday: 473048 penyewa, Thursday: 485395 penyewa, Friday: 487790 penyewa, dan Saturday: 477807 penyewa.\n",
    "    6. Jumlah pengguna sepeda biasa (bukan member) pada tahun 2011 ada sebanyak 247252 orang dan pada tahun 2012 ada sebanyak 372765 orang, sedangkan untuk pengguna terdaftar (member) pada tahun 2011 ada sebanyak 995851 orang dan pada tahun 2012 ada sebanyak 1676811 orang. Berdasarkan informasi tersebut, seseorang yang sudah menjadi member dengan belum/bukan menjadi member memiliki nilai yang cukup jauh.\n",
    "    7. Jumlah penyewa sepeda pada hari libur Nasional (tanggal merah) pada tahun 2011 ada sebanyak 30022 penyewa, dan pada tahun 2012 ada sebanyak 48413 penyewa.\n",
    "- Berdasarkan ringkasan parameter statistik dari data hour_df, diperoleh informasi bahwa total jumlah penyewa sepeda ada sebanyak 17379 penyewa dengan range jam penyewaan yakni jam 00.00 sampai 23.00 dan rata-rata penyewaan sepeda terjadi pada jam 11.54 serta standar deviasi 6.91. Selain itu, diperoleh informasi bahwa penyewaan tertinggi terjadi pada jam 17.00 yakni sebesar 336860 penyewa dan penyewaan terendah terjadi pada jam 04.00 yakni sebesar 4428 penyewa."
   ]
  },
  {
   "cell_type": "markdown",
   "id": "19a1d2a8-a31d-4e5b-89a0-5febe1aee0ad",
   "metadata": {},
   "source": [
    "## Visualization & Explanatory Analysis"
   ]
  },
  {
   "cell_type": "markdown",
   "id": "b6edba14-3a8e-4b3a-a2be-90763ae51bb7",
   "metadata": {},
   "source": [
    "### Pertanyaan 1: Bagaimana performa penyewaan sepeda dalam beberapa tahun terakhir ini?"
   ]
  },
  {
   "cell_type": "code",
   "execution_count": null,
   "id": "669f0a54-21fe-41fa-b4f9-71eb396c0b42",
   "metadata": {},
   "outputs": [],
   "source": [
    "# Membuat figure dengan ukuran (23,9)\n",
    "plt.figure(figsize=(23,9))\n",
    "\n",
    "# Mengelompokkan data berdasarkan kolom date_day dan mengambil nilai maksimum\n",
    "monthly_count = day_df[\"count\"].groupby(day_df[\"date_day\"]).max()\n",
    "\n",
    "# Membuat scatter plot\n",
    "plt.scatter(monthly_count.index, monthly_count.values, color=\"red\", s=10, marker='o')\n",
    "\n",
    "# Membuat line plot untuk menghubungkan titik-titik dalam scatter plot\n",
    "plt.plot(monthly_count.index, monthly_count.values, color = \"skyblue\")\n",
    "\n",
    "# Pemberian nama/label\n",
    "plt.xlabel=None\n",
    "plt.ylabel(\"jumlah penyewaan sepeda\", fontsize = 20)\n",
    "plt.title(\"Grafik Jumlah penyewa sepeda tahun 2011-2012\", fontsize=20)\n",
    "plt.tick_params(axis ='x', labelsize = 20)\n",
    "plt.tick_params(axis ='y', labelsize = 20)\n",
    "\n",
    "# Menampilkan grafik\n",
    "plt.show()"
   ]
  },
  {
   "cell_type": "markdown",
   "id": "b29458fb-0c20-48d3-a45b-351970a6c967",
   "metadata": {},
   "source": [
    "### Pertanyaan 2:  Pada musim apa yang memiliki tingkat penyewaan sepeda paling tinggi dan paling rendah?"
   ]
  },
  {
   "cell_type": "code",
   "execution_count": null,
   "id": "4cf5c6b2-f80c-49cf-a53b-748fc2128e31",
   "metadata": {},
   "outputs": [],
   "source": [
    "# Mengatur warna untuk masing-masing bar chart\n",
    "colors1 = [\"bisque\", \"bisque\", \"darkorange\", \"bisque\"]\n",
    "colors2 = [\"salmon\", \"mistyrose\", \"mistyrose\", \"mistyrose\"]\n",
    "\n",
    "fig, axes = plt.subplots(nrows=1, ncols=2, figsize=(20, 10)) \n",
    "\n",
    "# Bar chart pertama\n",
    "sns.barplot(\n",
    "    y =\"count\", \n",
    "    x =\"season\",\n",
    "    hue =\"season\",\n",
    "    data = day_df.sort_values(by=\"season\", ascending=True),\n",
    "    palette = colors1,\n",
    "    errorbar = None,\n",
    "    ax = axes[0] \n",
    ")\n",
    "axes[0].set_title(\"Grafik Penyewaan Sepeda Berdasarkan Musim Tertinggi\", fontsize=20)\n",
    "axes[0].set_ylabel(\"Jumlah penyewa sepeda\", fontsize = 20)\n",
    "axes[0].set_xlabel(\"Musim\", fontsize = 20)\n",
    "axes[0].tick_params(axis ='x', labelsize = 20)\n",
    "axes[0].tick_params(axis ='y', labelsize = 20)\n",
    "\n",
    "# Bar chart kedua\n",
    "sns.barplot(\n",
    "    y =\"count\", \n",
    "    x =\"season\",\n",
    "    hue =\"season\",\n",
    "    data = day_df.sort_values(by=\"season\", ascending=False),\n",
    "    palette = colors2,\n",
    "    errorbar = None,\n",
    "    ax = axes[1]  \n",
    ")\n",
    "axes[1].set_title(\"Grafik Penyewaan Sepeda Berdasarkan Musim Terendah\", fontsize=20)\n",
    "axes[1].set_ylabel(\"Jumlah penyewa sepeda\", fontsize = 20)\n",
    "axes[1].set_xlabel(\"Musim\", fontsize = 20)\n",
    "axes[1].tick_params(axis ='x', labelsize= 20)\n",
    "axes[1].tick_params(axis ='y', labelsize= 20)\n",
    "\n",
    "# Menampilkan plot\n",
    "plt.tight_layout()\n",
    "plt.show()\n"
   ]
  },
  {
   "cell_type": "markdown",
   "id": "7ba27f47-b608-4e4d-b1ba-e025379fa302",
   "metadata": {},
   "source": [
    "### Pertanyaan 3: Bagaimana perbandingan jumlah penyewaan sepeda pada hari libur dan hari kerja?"
   ]
  },
  {
   "cell_type": "code",
   "execution_count": null,
   "id": "1447c87f-8d2f-4cc4-abeb-b6246b8e9cd8",
   "metadata": {},
   "outputs": [],
   "source": [
    "# mengatur warna\n",
    "colors = [\"#90CAF9\",\"#1f77b4\"]\n",
    "\n",
    "# membuat subplot dengan 1 baris dan 1 kolom, dengan ukuran (20, 10)\n",
    "fig, ax = plt.subplots(figsize=(20, 10))\n",
    "\n",
    "# Buat barplot untuk y=\"count\" dan x=\"workingday\", menggunakan data=day_df\n",
    "sns.barplot(\n",
    "        y =\"count\", \n",
    "        x =\"workingday\",\n",
    "        hue =\"workingday\",\n",
    "        data = day_df.sort_values(by=\"workingday\", ascending=False),\n",
    "        palette = colors,\n",
    "        errorbar = None,\n",
    "        ax = ax\n",
    "    )\n",
    "# mengatur judul, label y dan x, serta tick params untuk subplot tersebut\n",
    "ax.set_title(\"Hari Libur vs Hari Kerja\", loc =\"center\", fontsize=20)\n",
    "ax.set_ylabel(\"Jumlah Penyewa Sepeda\", fontsize = 20)\n",
    "ax.set_xlabel(None)\n",
    "ax.tick_params(axis ='x', labelsize = 20)\n",
    "ax.tick_params(axis ='y', labelsize = 20)\n",
    "\n",
    "# menampilkan plot\n",
    "plt.show()"
   ]
  },
  {
   "cell_type": "markdown",
   "id": "e07894b5-467f-4e73-b5b1-e0590a354a45",
   "metadata": {},
   "source": [
    "### Pertanyaan 4: Bagaimana perbandingan jumlah pengguna sepeda biasa dan pengguna terdaftar?"
   ]
  },
  {
   "cell_type": "code",
   "execution_count": null,
   "id": "e4f778aa-b2e5-4a99-aa09-4af5ad89f8f2",
   "metadata": {},
   "outputs": [],
   "source": [
    "# Menjumlahkan semua elemen dalam kolom casual (pengguna biasa)\n",
    "jumlah_total_casual = sum(day_df['casual'])\n",
    "\n",
    "# Menjumlahkan semua elemen dalam kolom registered (pengguna terdaftar)\n",
    "jumlah_total_registered = sum(day_df['registered'])\n",
    "\n",
    "# Membuat data untuk pie plot\n",
    "data = [jumlah_total_casual, jumlah_total_registered]\n",
    "labels = [\"Casual (pengguna biasa)\", \"Registered (pengguna terdaftar)\"]\n",
    "colors=[\"#E67F0D\", \"#93C572\"]\n",
    "\n",
    "# Membuat pie plot\n",
    "plt.pie(data, \n",
    "        labels=labels, \n",
    "        autopct='%1.1f%%', \n",
    "        colors=colors)\n",
    "\n",
    "# Menampilkan pie plot\n",
    "plt.show()"
   ]
  },
  {
   "cell_type": "markdown",
   "id": "f96bc32b-41a7-4d93-9ca6-ad52a982c28e",
   "metadata": {},
   "source": [
    "### Pertanyaan 5: Bagaimana tren jumlah penyewaan sepeda berdasarkan jam?"
   ]
  },
  {
   "cell_type": "code",
   "execution_count": null,
   "id": "6a22f0d4-2d4f-46ed-ae5a-3dff434b749f",
   "metadata": {},
   "outputs": [],
   "source": [
    "# Membuat figure dengan ukuran (23,9)\n",
    "plt.figure(figsize=(23,9))\n",
    "\n",
    "# Mengelompokkan data berdasarkan kolom hours dan mengambil nilai maksimum\n",
    "hourly_count = hour_df[\"count\"].groupby(hour_df[\"hours\"]).max()\n",
    "\n",
    "# Membuat scatter plot\n",
    "plt.scatter(hourly_count.index, hourly_count.values, color=\"red\", s=50, marker='o')\n",
    "\n",
    "# Membuat line plot untuk menghubungkan titik-titik dalam scatter plot\n",
    "plt.plot(hourly_count.index, hourly_count.values, color=\"#1f77b4\")\n",
    "\n",
    "# Pemberian nama/label\n",
    "plt.xlabel= None\n",
    "plt.ylabel(\"jumlah penyewaan sepeda\", fontsize=20)\n",
    "plt.title(\"Grafik Jumlah Penyewa Sepeda Berdasarkan Jam\", fontsize=20)\n",
    "plt.tick_params(axis='x', labelsize=20)\n",
    "plt.tick_params(axis='y', labelsize=20)\n",
    "plt.show()"
   ]
  },
  {
   "cell_type": "markdown",
   "id": "66150dcb-fbc9-4f88-989a-0f7a9212fea0",
   "metadata": {},
   "source": [
    "**Insight**:\n",
    "1. Pada pertanyaan 1, diperoleh informasi bahwa secara keseluruhan, jumlah penyewaan sepeda mengalami peningkatan dari awal tahun 2011 hingga akhir tahun 2012. Akan tetapi, setelah mencapai puncak di pertengahan tahun 2012 jumlah penyewaan mengalami sedikit penurunan ketika mendekati akhir tahun. Hal ini mungkin disebabkan oleh perubahan musim atau cuaca dan event-event khusus, misalnya hari libur.\n",
    "2. Pada pertanyaan 2, diperoleh informasi bahwa berdasarkan musim, jumlah penyewa sepeda tertinggi ada pada musim Fall (Musim gugur), dan musim Spring (musim semi) memiliki penyewaan yang lebih rendah dibandingkan dengan musim lainnya.\n",
    "3. Pada pertanyaan 3, diperoleh informasi bahwa jumlah penyewa sepeda pada hari kerja lebih banyak daripada jumlah penyewa sepeda pada hari libur.\n",
    "4. Pada pertanyaan 4, diperoleh informasi bahwa sebagian besar penyewa adalah pengguna terdaftar dibandingkan dengan pengguna biasa.\n",
    "5. Pada pertanyaan 5, diperoleh informasi bahwa jumlah penyewaan meningkat tajam mulai pagi hari, dan mencapai puncaknya ketika jam pulang kerja atau sore hari. Namun, ada juga pola menurun di malam hari."
   ]
  },
  {
   "cell_type": "markdown",
   "id": "d57798c0-7cbe-4f69-9e10-04e68d8934a3",
   "metadata": {},
   "source": [
    "## Analisis Lanjutan"
   ]
  },
  {
   "cell_type": "markdown",
   "id": "eee2bb5c-d71b-471c-863e-15ddd9ace8da",
   "metadata": {},
   "source": [
    "### Analisis Clustering"
   ]
  },
  {
   "cell_type": "markdown",
   "id": "934dc97b-e05a-48ac-aa30-a2769a14e45e",
   "metadata": {},
   "source": [
    "- **Mengelompokkan jumlah penyewa sepeda berdasarkan kategori rentang waktu**"
   ]
  },
  {
   "cell_type": "code",
   "execution_count": null,
   "id": "a8dab9af-2b85-41c8-a368-00a0cac6898d",
   "metadata": {},
   "outputs": [],
   "source": [
    "# Definisikan bins dan label untuk kategori waktu\n",
    "bins = [0, 6, 12, 18, 24]\n",
    "labels = [\"Dini Hari (00.00-05.59)\", \"Pagi (06.00-11.59)\", \"Siang-Sore (12.00-17.59)\", \"Malam (18.00-23.59)\"]\n",
    "\n",
    "# Terapkan binning pada kolom 'hours'\n",
    "hour_df[\"kategori_waktu\"] = pd.cut(hour_df[\"hours\"], bins=bins, labels=labels, right=False)\n",
    "\n",
    "# Mengelompokkan data berdasarkan kategori waktu dan menjumlahkan total penyewaan\n",
    "waktu_grouped = hour_df.groupby(\"kategori_waktu\", observed=True)[\"count\"].sum().reset_index()\n",
    "\n",
    "# Menampilkan hasilnya\n",
    "print(waktu_grouped)\n"
   ]
  },
  {
   "cell_type": "code",
   "execution_count": null,
   "id": "e926c45e-0a4a-411a-a208-9e1e0e6f5224",
   "metadata": {},
   "outputs": [],
   "source": [
    "# Definisi bins dan label untuk kategori waktu\n",
    "bins = [0, 6, 12, 18, 24]\n",
    "labels = [\"Dini Hari (00.00-05.59)\", \"Pagi (06.00-11.59)\", \"Siang-Sore (12.00-17.59)\", \"Malam (18.00-23.59)\"]\n",
    "\n",
    "# Terapkan binning pada kolom 'hours'\n",
    "hour_df[\"kategori_waktu\"] = pd.cut(hour_df[\"hours\"], bins=bins, labels=labels, include_lowest=True, right=False)\n",
    "\n",
    "# Mengelompokkan data berdasarkan kategori waktu dan menjumlahkan total penyewaan\n",
    "waktu_grouped = hour_df.groupby(\"kategori_waktu\", observed=True)[\"count\"].sum().astype(int).reset_index()\n",
    "\n",
    "# Membuat plot\n",
    "plt.figure(figsize=(10,5))\n",
    "ax = sns.barplot(x=\"kategori_waktu\", y=\"count\", data=waktu_grouped, color=\"mediumpurple\")\n",
    "\n",
    "# Mengatur label sumbu\n",
    "plt.xlabel= (\"Kategori Waktu\")\n",
    "plt.ylabel(\"Jumlah Penyewaan Sepeda\")\n",
    "\n",
    "# Format sumbu y agar hanya menampilkan bilangan bulat\n",
    "from matplotlib.ticker import FuncFormatter\n",
    "ax.yaxis.set_major_formatter(FuncFormatter(lambda x, _: '{:,.0f}'.format(x)))\n",
    "\n",
    "# Menampilkan grafik\n",
    "plt.xticks(rotation=45)\n",
    "plt.show()"
   ]
  },
  {
   "cell_type": "markdown",
   "id": "f56713de-a2a1-4ebc-ad7f-215ef94bbcdc",
   "metadata": {},
   "source": [
    "**Insight:**\n",
    "- Dilakukan analisis clustering berdasarkan kategori rentang waktu, yakni:\n",
    "    1. Dini Hari (pukul 00.00-05.59) ada sebanyak 106509 penyewa;\n",
    "    2. Pagi (pukul 06.00-11.59) ada sebanyak 907319 penyewa;\n",
    "    3. Siang-Sore (pukul 12.00-17.59) ada sebanyak 1292742 penyewa;\n",
    "    4. Malam (pukul 18.00-23.59) ada sebanyak 986109 penyewa.\n",
    "- Berdasarkan informasi diatas, diperoleh rentang waktu terbanyak jumlah penyewa sepeda yaitu pada siang-sore hari sekitar pukul 12.00-17.59, dan waktu terendah jumlah penyewa sepeda yaitu pada dini hari sekitar pukul 00.00-05.59."
   ]
  },
  {
   "cell_type": "markdown",
   "id": "c870dba8-1b26-4abc-8a9f-fc4a756c7bcc",
   "metadata": {},
   "source": [
    "## Conclusion"
   ]
  },
  {
   "cell_type": "markdown",
   "id": "993468cf-21b6-40e9-a734-b022341467f6",
   "metadata": {},
   "source": [
    "**Pertanyaan:**\n",
    "- Pertanyaan 1: Bagaimana performa penyewaan sepeda dalam dua tahun terakhir ini?\n",
    "- Pertanyaan 2: Pada musim apa yang memiliki tingkat penyewaan sepeda paling tinggi dan paling rendah?\n",
    "- Pertanyaan 3: Bagaimana perbandingan jumlah penyewaan sepeda pada hari libur dan hari kerja?\n",
    "- Pertanyaan 4: Bagaimana perbandingan jumlah pengguna sepeda biasa dan pengguna terdaftar?\n",
    "- Pertanyaan 5: Bagaimana tren jumlah penyewaan sepeda berdasarkan jam?"
   ]
  },
  {
   "cell_type": "markdown",
   "id": "898a109f-b913-4a77-8309-f5c8112e60b8",
   "metadata": {},
   "source": [
    "**Conclusion pertanyaan 1:**\n",
    "- Berdasarkan hasil analisis, pada tahun 2011 jumlah penyewaan sepeda tertinggi ada pada bulan Juni, yaitu sebanyak 143512 penyewa dan terus mengalami penurunan hingga bulan Desember hanya menjadi 87323 penyewa. Selanjutnya pada tahun 2012, jumlah penyewaan terus meningkat dari bulan Januari-Agustus dan mencapai puncaknya pada bulan September, yaitu sebanyak 218573. Akan tetapi, setelah bulan September mengalami penurunan dan secara signifikan ada pada bulan Desember hanya menjadi 123713 penyewa. Diperoleh informasi secara keseluruhan jumlah penyewaan sepeda mengalami peningkatan dari awal tahun 2011 hingga akhir tahun 2012. Akan tetapi, setelah mencapai puncak di pertengahan tahun 2012 jumlah penyewaan mengalami sedikit penurunan ketika mendekati akhir tahun. Hal ini mungkin disebabkan oleh perubahan musim atau cuaca dan event-event khusus, misalnya hari libur."
   ]
  },
  {
   "cell_type": "markdown",
   "id": "3b9672ab-013f-4e39-bb2a-dd35b609f29a",
   "metadata": {},
   "source": [
    "**Conclusion pertanyaan 2:**\n",
    "- Berdasarkan hasil analisis, musim yang memiliki tingkat penyewaan sepeda tertinggi ada pada musim Fall(musim gugur) yaitu sebanyak 1061129 penyewa. Selanjutnya untuk musim yang memiliki tingkat penyewaan terendah ada pada musim Spring(musim semi) yaitu sebanyak 471348 penyewa."
   ]
  },
  {
   "cell_type": "markdown",
   "id": "a504b19c-d85f-4a25-89c6-a11f4e3268c1",
   "metadata": {},
   "source": [
    "**Conclution pertanyaan 3:**\n",
    "- Diperoleh informasi dari hasil analisis yaitu jumlah penyewaan sepeda pada hari kerja lebih tinggi dari pada jumlah penyewaan sepeda pada hari libur. Pada hari kerja ada sebanyak 22924101 penyewa, sedangkan pada hari libur ada sebanyak 1000269."
   ]
  },
  {
   "cell_type": "markdown",
   "id": "c02464fa-3b78-4594-ab93-c7e61462ac28",
   "metadata": {},
   "source": [
    "**Conclution pertanyaan 4:**\n",
    "- Berdasarkan informasi yang diperoleh, sebagian besar pengguna telah berstatus sebagai pengguna terdaftar (registered) yakni sebesar 81,2 % dan sebagian kecil masih menjadi pengguna biasa (casual) yakni sebesar 18,8%."
   ]
  },
  {
   "cell_type": "markdown",
   "id": "c3a02cc3-d85b-44e3-891e-2c04848bb4b1",
   "metadata": {},
   "source": [
    "**Conclution pertanyaan 5:**\n",
    "- Berdasarkan hasil analisis, jumlah penyewaan sepeda tertinggi ada pada sore hari sekitar jam 17.00, dan jumlah penyewaan sepeda terendah ada pada dini hari sekitar jam 04.00."
   ]
  }
 ],
 "metadata": {
  "kernelspec": {
   "display_name": "Python 3 (ipykernel)",
   "language": "python",
   "name": "python3"
  },
  "language_info": {
   "codemirror_mode": {
    "name": "ipython",
    "version": 3
   },
   "file_extension": ".py",
   "mimetype": "text/x-python",
   "name": "python",
   "nbconvert_exporter": "python",
   "pygments_lexer": "ipython3",
   "version": "3.13.2"
  }
 },
 "nbformat": 4,
 "nbformat_minor": 5
}
